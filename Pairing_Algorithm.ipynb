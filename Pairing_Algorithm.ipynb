{
  "nbformat": 4,
  "nbformat_minor": 0,
  "metadata": {
    "colab": {
      "name": "Pairing_Algorithm.ipynb",
      "provenance": [],
      "collapsed_sections": [],
      "authorship_tag": "ABX9TyPgDMmKKmIoGFUnT24rwByw",
      "include_colab_link": true
    },
    "kernelspec": {
      "name": "python3",
      "display_name": "Python 3"
    },
    "language_info": {
      "name": "python"
    }
  },
  "cells": [
    {
      "cell_type": "markdown",
      "metadata": {
        "id": "view-in-github",
        "colab_type": "text"
      },
      "source": [
        "<a href=\"https://colab.research.google.com/github/LaunchPad-Purdue/Mentor-Mentee-Pairing/blob/main/Pairing_Algorithm.ipynb\" target=\"_parent\"><img src=\"https://colab.research.google.com/assets/colab-badge.svg\" alt=\"Open In Colab\"/></a>"
      ]
    },
    {
      "cell_type": "code",
      "metadata": {
        "id": "SeioS1w3izv9"
      },
      "source": [
        "import pandas as pd\n",
        "import numpy as np"
      ],
      "execution_count": null,
      "outputs": []
    },
    {
      "cell_type": "code",
      "metadata": {
        "id": "fnQgtxvvks4a"
      },
      "source": [
        "mentees = pd.read_csv(\"fakeMentees.csv\")\n",
        "mentors = pd.read_csv(\"fakeMentors.csv\")"
      ],
      "execution_count": null,
      "outputs": []
    },
    {
      "cell_type": "code",
      "metadata": {
        "colab": {
          "base_uri": "https://localhost:8080/",
          "height": 203
        },
        "id": "a8JGSb3Ck0ej",
        "outputId": "5ac26e15-64c7-4557-9a66-098c9860a61c"
      },
      "source": [
        "mentees['Name'] = mentees['Name'].str.split().str[0]\n",
        "mentees.head()"
      ],
      "execution_count": null,
      "outputs": [
        {
          "output_type": "execute_result",
          "data": {
            "text/html": [
              "<div>\n",
              "<style scoped>\n",
              "    .dataframe tbody tr th:only-of-type {\n",
              "        vertical-align: middle;\n",
              "    }\n",
              "\n",
              "    .dataframe tbody tr th {\n",
              "        vertical-align: top;\n",
              "    }\n",
              "\n",
              "    .dataframe thead th {\n",
              "        text-align: right;\n",
              "    }\n",
              "</style>\n",
              "<table border=\"1\" class=\"dataframe\">\n",
              "  <thead>\n",
              "    <tr style=\"text-align: right;\">\n",
              "      <th></th>\n",
              "      <th>Name</th>\n",
              "    </tr>\n",
              "  </thead>\n",
              "  <tbody>\n",
              "    <tr>\n",
              "      <th>0</th>\n",
              "      <td>Bradley</td>\n",
              "    </tr>\n",
              "    <tr>\n",
              "      <th>1</th>\n",
              "      <td>Trenton</td>\n",
              "    </tr>\n",
              "    <tr>\n",
              "      <th>2</th>\n",
              "      <td>Brianna</td>\n",
              "    </tr>\n",
              "    <tr>\n",
              "      <th>3</th>\n",
              "      <td>Cristobal</td>\n",
              "    </tr>\n",
              "    <tr>\n",
              "      <th>4</th>\n",
              "      <td>Billy</td>\n",
              "    </tr>\n",
              "  </tbody>\n",
              "</table>\n",
              "</div>"
            ],
            "text/plain": [
              "        Name\n",
              "0    Bradley\n",
              "1    Trenton\n",
              "2    Brianna\n",
              "3  Cristobal\n",
              "4      Billy"
            ]
          },
          "metadata": {},
          "execution_count": 294
        }
      ]
    },
    {
      "cell_type": "code",
      "metadata": {
        "colab": {
          "base_uri": "https://localhost:8080/",
          "height": 203
        },
        "id": "lBr2CLDElBgq",
        "outputId": "81603cab-210e-4c61-90db-823f3a2331a0"
      },
      "source": [
        "mentors['Name'] = mentors['Name'].str.split().str[0]\n",
        "mentors.head()"
      ],
      "execution_count": null,
      "outputs": [
        {
          "output_type": "execute_result",
          "data": {
            "text/html": [
              "<div>\n",
              "<style scoped>\n",
              "    .dataframe tbody tr th:only-of-type {\n",
              "        vertical-align: middle;\n",
              "    }\n",
              "\n",
              "    .dataframe tbody tr th {\n",
              "        vertical-align: top;\n",
              "    }\n",
              "\n",
              "    .dataframe thead th {\n",
              "        text-align: right;\n",
              "    }\n",
              "</style>\n",
              "<table border=\"1\" class=\"dataframe\">\n",
              "  <thead>\n",
              "    <tr style=\"text-align: right;\">\n",
              "      <th></th>\n",
              "      <th>Name</th>\n",
              "    </tr>\n",
              "  </thead>\n",
              "  <tbody>\n",
              "    <tr>\n",
              "      <th>0</th>\n",
              "      <td>Isaac</td>\n",
              "    </tr>\n",
              "    <tr>\n",
              "      <th>1</th>\n",
              "      <td>Aileen</td>\n",
              "    </tr>\n",
              "    <tr>\n",
              "      <th>2</th>\n",
              "      <td>Jan</td>\n",
              "    </tr>\n",
              "    <tr>\n",
              "      <th>3</th>\n",
              "      <td>Donnie</td>\n",
              "    </tr>\n",
              "    <tr>\n",
              "      <th>4</th>\n",
              "      <td>Sammy</td>\n",
              "    </tr>\n",
              "  </tbody>\n",
              "</table>\n",
              "</div>"
            ],
            "text/plain": [
              "     Name\n",
              "0   Isaac\n",
              "1  Aileen\n",
              "2     Jan\n",
              "3  Donnie\n",
              "4   Sammy"
            ]
          },
          "metadata": {},
          "execution_count": 295
        }
      ]
    },
    {
      "cell_type": "markdown",
      "metadata": {
        "id": "ZPHKs0r0p9C6"
      },
      "source": [
        "## Random generation for testing "
      ]
    },
    {
      "cell_type": "code",
      "metadata": {
        "id": "xgJOXZmyqJPt"
      },
      "source": [
        "import random\n",
        "\n",
        "def generate_match(max=30):\n",
        "  val = random.randint(0, max - 1)\n",
        "  return val\n",
        "\n",
        "def generate_10_students(max=30):\n",
        "  arr = []\n",
        "  while len(arr) < 10:\n",
        "    num = generate_match(max)\n",
        "    if num not in arr:\n",
        "      arr.append(num)\n",
        "  return arr"
      ],
      "execution_count": null,
      "outputs": []
    },
    {
      "cell_type": "code",
      "metadata": {
        "colab": {
          "base_uri": "https://localhost:8080/"
        },
        "id": "ZntZzg_uqy3Y",
        "outputId": "e6d465e6-ce2c-4d5a-defc-eb77686b5ccd"
      },
      "source": [
        "# Simulating distribution with 1, 2\n",
        "test = {0: 0, 1: 0}\n",
        "for i in range(1, 10000):\n",
        "  test[generate_match(2)] += 1\n",
        "print(test)\n",
        "# Roughly simulating three batches of students\n",
        "\n",
        "generate_10_students()"
      ],
      "execution_count": null,
      "outputs": [
        {
          "output_type": "stream",
          "name": "stdout",
          "text": [
            "{0: 5059, 1: 4940}\n"
          ]
        },
        {
          "output_type": "execute_result",
          "data": {
            "text/plain": [
              "[21, 8, 23, 24, 28, 25, 17, 22, 26, 18]"
            ]
          },
          "metadata": {},
          "execution_count": 297
        }
      ]
    },
    {
      "cell_type": "code",
      "metadata": {
        "id": "hbodgG7DofNX"
      },
      "source": [
        "# Randomizer for simulating responses\n",
        "\n",
        "mentee_ranks = pd.DataFrame() # What mentors ranked mentees\n",
        "mentor_ranks = pd.DataFrame() # What mentees ranked mentors\n",
        "\n",
        "for i in mentors['Name']: # Create a bunch of random randomized 1-10 rankings for mentors\n",
        "  df = {\"Timestamp\": \"10\",\n",
        "         \"Email address\": \"%s@purdue.edu\" % i.lower(),\n",
        "         \"What's your name?\": i}\n",
        "  arr = generate_10_students()\n",
        "  df[\"Rank 1 (Top Choice)\"] = mentees[\"Name\"][arr[0]]\n",
        "  for j in range(1, 10):\n",
        "    df[\"Rank %d\" % (j + 1)] = mentees[\"Name\"][arr[j]]\n",
        "  mentee_ranks = mentee_ranks.append(df, ignore_index=True)\n",
        "\n",
        "for i in mentees['Name']:\n",
        "  df = {\"Timestamp\": \"10\",\n",
        "         \"Email address\": \"%s@purdue.edu\" % i.lower(),\n",
        "         \"What's your name?\": i}\n",
        "  arr = generate_10_students()\n",
        "  df[\"Rank 1 (Top Choice)\"] = mentors[\"Name\"][arr[0]]\n",
        "  for j in range(1, 10):\n",
        "    df[\"Rank %d\" % (j + 1)] = mentors[\"Name\"][arr[j]]\n",
        "  mentor_ranks = mentor_ranks.append(df, ignore_index=True)\n",
        "\n",
        "# This is all basically to get a replica of the google form responses that'll be loaded in"
      ],
      "execution_count": null,
      "outputs": []
    },
    {
      "cell_type": "code",
      "metadata": {
        "colab": {
          "base_uri": "https://localhost:8080/",
          "height": 220
        },
        "id": "dmANalN6tnzc",
        "outputId": "13b00d41-a2c5-42c1-d008-ba7ef545b594"
      },
      "source": [
        "mentee_ranks.head()"
      ],
      "execution_count": null,
      "outputs": [
        {
          "output_type": "execute_result",
          "data": {
            "text/html": [
              "<div>\n",
              "<style scoped>\n",
              "    .dataframe tbody tr th:only-of-type {\n",
              "        vertical-align: middle;\n",
              "    }\n",
              "\n",
              "    .dataframe tbody tr th {\n",
              "        vertical-align: top;\n",
              "    }\n",
              "\n",
              "    .dataframe thead th {\n",
              "        text-align: right;\n",
              "    }\n",
              "</style>\n",
              "<table border=\"1\" class=\"dataframe\">\n",
              "  <thead>\n",
              "    <tr style=\"text-align: right;\">\n",
              "      <th></th>\n",
              "      <th>Email address</th>\n",
              "      <th>Rank 1 (Top Choice)</th>\n",
              "      <th>Rank 10</th>\n",
              "      <th>Rank 2</th>\n",
              "      <th>Rank 3</th>\n",
              "      <th>Rank 4</th>\n",
              "      <th>Rank 5</th>\n",
              "      <th>Rank 6</th>\n",
              "      <th>Rank 7</th>\n",
              "      <th>Rank 8</th>\n",
              "      <th>Rank 9</th>\n",
              "      <th>Timestamp</th>\n",
              "      <th>What's your name?</th>\n",
              "    </tr>\n",
              "  </thead>\n",
              "  <tbody>\n",
              "    <tr>\n",
              "      <th>0</th>\n",
              "      <td>isaac@purdue.edu</td>\n",
              "      <td>Althea</td>\n",
              "      <td>Rowena</td>\n",
              "      <td>Becky</td>\n",
              "      <td>Kris</td>\n",
              "      <td>Paula</td>\n",
              "      <td>John</td>\n",
              "      <td>Lawanda</td>\n",
              "      <td>Sean</td>\n",
              "      <td>Rhoda</td>\n",
              "      <td>Catherine</td>\n",
              "      <td>10</td>\n",
              "      <td>Isaac</td>\n",
              "    </tr>\n",
              "    <tr>\n",
              "      <th>1</th>\n",
              "      <td>aileen@purdue.edu</td>\n",
              "      <td>Dean</td>\n",
              "      <td>Cristobal</td>\n",
              "      <td>John</td>\n",
              "      <td>Rowena</td>\n",
              "      <td>Billy</td>\n",
              "      <td>Teddy</td>\n",
              "      <td>Catherine</td>\n",
              "      <td>Dianna</td>\n",
              "      <td>Kris</td>\n",
              "      <td>Lawanda</td>\n",
              "      <td>10</td>\n",
              "      <td>Aileen</td>\n",
              "    </tr>\n",
              "    <tr>\n",
              "      <th>2</th>\n",
              "      <td>jan@purdue.edu</td>\n",
              "      <td>Brianna</td>\n",
              "      <td>Simone</td>\n",
              "      <td>Sean</td>\n",
              "      <td>Rosalind</td>\n",
              "      <td>Everett</td>\n",
              "      <td>Cristobal</td>\n",
              "      <td>Teddy</td>\n",
              "      <td>Catherine</td>\n",
              "      <td>Hobert</td>\n",
              "      <td>Walker</td>\n",
              "      <td>10</td>\n",
              "      <td>Jan</td>\n",
              "    </tr>\n",
              "    <tr>\n",
              "      <th>3</th>\n",
              "      <td>donnie@purdue.edu</td>\n",
              "      <td>Erica</td>\n",
              "      <td>John</td>\n",
              "      <td>Deangelo</td>\n",
              "      <td>Becky</td>\n",
              "      <td>Kasey</td>\n",
              "      <td>Cristobal</td>\n",
              "      <td>Paula</td>\n",
              "      <td>Everett</td>\n",
              "      <td>Hubert</td>\n",
              "      <td>Billy</td>\n",
              "      <td>10</td>\n",
              "      <td>Donnie</td>\n",
              "    </tr>\n",
              "    <tr>\n",
              "      <th>4</th>\n",
              "      <td>sammy@purdue.edu</td>\n",
              "      <td>Rosalind</td>\n",
              "      <td>Catherine</td>\n",
              "      <td>Cristobal</td>\n",
              "      <td>Becky</td>\n",
              "      <td>Simone</td>\n",
              "      <td>Erica</td>\n",
              "      <td>Irene</td>\n",
              "      <td>Brianna</td>\n",
              "      <td>Dianna</td>\n",
              "      <td>Paula</td>\n",
              "      <td>10</td>\n",
              "      <td>Sammy</td>\n",
              "    </tr>\n",
              "  </tbody>\n",
              "</table>\n",
              "</div>"
            ],
            "text/plain": [
              "       Email address Rank 1 (Top Choice)  ... Timestamp What's your name?\n",
              "0   isaac@purdue.edu              Althea  ...        10             Isaac\n",
              "1  aileen@purdue.edu                Dean  ...        10            Aileen\n",
              "2     jan@purdue.edu             Brianna  ...        10               Jan\n",
              "3  donnie@purdue.edu               Erica  ...        10            Donnie\n",
              "4   sammy@purdue.edu            Rosalind  ...        10             Sammy\n",
              "\n",
              "[5 rows x 13 columns]"
            ]
          },
          "metadata": {},
          "execution_count": 299
        }
      ]
    },
    {
      "cell_type": "code",
      "metadata": {
        "colab": {
          "base_uri": "https://localhost:8080/",
          "height": 220
        },
        "id": "ZhDpK78Du1ti",
        "outputId": "dd91d714-ac6a-4009-fd2b-5724c8463f80"
      },
      "source": [
        "mentor_ranks.head()"
      ],
      "execution_count": null,
      "outputs": [
        {
          "output_type": "execute_result",
          "data": {
            "text/html": [
              "<div>\n",
              "<style scoped>\n",
              "    .dataframe tbody tr th:only-of-type {\n",
              "        vertical-align: middle;\n",
              "    }\n",
              "\n",
              "    .dataframe tbody tr th {\n",
              "        vertical-align: top;\n",
              "    }\n",
              "\n",
              "    .dataframe thead th {\n",
              "        text-align: right;\n",
              "    }\n",
              "</style>\n",
              "<table border=\"1\" class=\"dataframe\">\n",
              "  <thead>\n",
              "    <tr style=\"text-align: right;\">\n",
              "      <th></th>\n",
              "      <th>Email address</th>\n",
              "      <th>Rank 1 (Top Choice)</th>\n",
              "      <th>Rank 10</th>\n",
              "      <th>Rank 2</th>\n",
              "      <th>Rank 3</th>\n",
              "      <th>Rank 4</th>\n",
              "      <th>Rank 5</th>\n",
              "      <th>Rank 6</th>\n",
              "      <th>Rank 7</th>\n",
              "      <th>Rank 8</th>\n",
              "      <th>Rank 9</th>\n",
              "      <th>Timestamp</th>\n",
              "      <th>What's your name?</th>\n",
              "    </tr>\n",
              "  </thead>\n",
              "  <tbody>\n",
              "    <tr>\n",
              "      <th>0</th>\n",
              "      <td>bradley@purdue.edu</td>\n",
              "      <td>Quinn</td>\n",
              "      <td>Sammy</td>\n",
              "      <td>Donte</td>\n",
              "      <td>Abdul</td>\n",
              "      <td>Arturo</td>\n",
              "      <td>Latonya</td>\n",
              "      <td>Genaro</td>\n",
              "      <td>Darcy</td>\n",
              "      <td>Louis</td>\n",
              "      <td>Homer</td>\n",
              "      <td>10</td>\n",
              "      <td>Bradley</td>\n",
              "    </tr>\n",
              "    <tr>\n",
              "      <th>1</th>\n",
              "      <td>trenton@purdue.edu</td>\n",
              "      <td>Eleanor</td>\n",
              "      <td>Yvette</td>\n",
              "      <td>Teddy</td>\n",
              "      <td>Kathleen</td>\n",
              "      <td>Damian</td>\n",
              "      <td>Aileen</td>\n",
              "      <td>Carmela</td>\n",
              "      <td>Darcy</td>\n",
              "      <td>Quinn</td>\n",
              "      <td>Gilbert</td>\n",
              "      <td>10</td>\n",
              "      <td>Trenton</td>\n",
              "    </tr>\n",
              "    <tr>\n",
              "      <th>2</th>\n",
              "      <td>brianna@purdue.edu</td>\n",
              "      <td>Homer</td>\n",
              "      <td>Arturo</td>\n",
              "      <td>Carmela</td>\n",
              "      <td>Louis</td>\n",
              "      <td>Kathleen</td>\n",
              "      <td>Aileen</td>\n",
              "      <td>Hung</td>\n",
              "      <td>Donte</td>\n",
              "      <td>James</td>\n",
              "      <td>Erma</td>\n",
              "      <td>10</td>\n",
              "      <td>Brianna</td>\n",
              "    </tr>\n",
              "    <tr>\n",
              "      <th>3</th>\n",
              "      <td>cristobal@purdue.edu</td>\n",
              "      <td>James</td>\n",
              "      <td>Genaro</td>\n",
              "      <td>Gilbert</td>\n",
              "      <td>Erma</td>\n",
              "      <td>Hung</td>\n",
              "      <td>Eleanor</td>\n",
              "      <td>Abdul</td>\n",
              "      <td>Travis</td>\n",
              "      <td>Isaac</td>\n",
              "      <td>Damian</td>\n",
              "      <td>10</td>\n",
              "      <td>Cristobal</td>\n",
              "    </tr>\n",
              "    <tr>\n",
              "      <th>4</th>\n",
              "      <td>billy@purdue.edu</td>\n",
              "      <td>Abdul</td>\n",
              "      <td>Jan</td>\n",
              "      <td>Louis</td>\n",
              "      <td>Donnie</td>\n",
              "      <td>Hung</td>\n",
              "      <td>Yvette</td>\n",
              "      <td>James</td>\n",
              "      <td>Kaye</td>\n",
              "      <td>Travis</td>\n",
              "      <td>Donte</td>\n",
              "      <td>10</td>\n",
              "      <td>Billy</td>\n",
              "    </tr>\n",
              "  </tbody>\n",
              "</table>\n",
              "</div>"
            ],
            "text/plain": [
              "          Email address Rank 1 (Top Choice)  ... Timestamp What's your name?\n",
              "0    bradley@purdue.edu               Quinn  ...        10           Bradley\n",
              "1    trenton@purdue.edu             Eleanor  ...        10           Trenton\n",
              "2    brianna@purdue.edu               Homer  ...        10           Brianna\n",
              "3  cristobal@purdue.edu               James  ...        10         Cristobal\n",
              "4      billy@purdue.edu               Abdul  ...        10             Billy\n",
              "\n",
              "[5 rows x 13 columns]"
            ]
          },
          "metadata": {},
          "execution_count": 300
        }
      ]
    },
    {
      "cell_type": "markdown",
      "metadata": {
        "id": "Jaf3bvbj1T7b"
      },
      "source": [
        "# Actual Algorithm\n",
        "Based on: https://rosettacode.org/wiki/Stable_marriage_problem#Python\n"
      ]
    },
    {
      "cell_type": "code",
      "metadata": {
        "id": "jl66h3Tcu9K9"
      },
      "source": [
        "# Now here's where the actual algorithm starts.\n",
        "# Insert stuff to read csv files for mentor mentee here\n",
        "## mentor_ranks = pd.read_csv(\"menteesresp.csv\")\n",
        "## mentee_ranks = pd.read_csv(\"mentorsresp.csv\")"
      ],
      "execution_count": null,
      "outputs": []
    },
    {
      "cell_type": "code",
      "metadata": {
        "colab": {
          "base_uri": "https://localhost:8080/",
          "height": 220
        },
        "id": "jP7BZTppX2uD",
        "outputId": "566548e0-3fc0-4d01-9f8f-36573330b94e"
      },
      "source": [
        "mentor_ranks.head()"
      ],
      "execution_count": null,
      "outputs": [
        {
          "output_type": "execute_result",
          "data": {
            "text/html": [
              "<div>\n",
              "<style scoped>\n",
              "    .dataframe tbody tr th:only-of-type {\n",
              "        vertical-align: middle;\n",
              "    }\n",
              "\n",
              "    .dataframe tbody tr th {\n",
              "        vertical-align: top;\n",
              "    }\n",
              "\n",
              "    .dataframe thead th {\n",
              "        text-align: right;\n",
              "    }\n",
              "</style>\n",
              "<table border=\"1\" class=\"dataframe\">\n",
              "  <thead>\n",
              "    <tr style=\"text-align: right;\">\n",
              "      <th></th>\n",
              "      <th>Email address</th>\n",
              "      <th>Rank 1 (Top Choice)</th>\n",
              "      <th>Rank 10</th>\n",
              "      <th>Rank 2</th>\n",
              "      <th>Rank 3</th>\n",
              "      <th>Rank 4</th>\n",
              "      <th>Rank 5</th>\n",
              "      <th>Rank 6</th>\n",
              "      <th>Rank 7</th>\n",
              "      <th>Rank 8</th>\n",
              "      <th>Rank 9</th>\n",
              "      <th>Timestamp</th>\n",
              "      <th>What's your name?</th>\n",
              "    </tr>\n",
              "  </thead>\n",
              "  <tbody>\n",
              "    <tr>\n",
              "      <th>0</th>\n",
              "      <td>bradley@purdue.edu</td>\n",
              "      <td>Quinn</td>\n",
              "      <td>Sammy</td>\n",
              "      <td>Donte</td>\n",
              "      <td>Abdul</td>\n",
              "      <td>Arturo</td>\n",
              "      <td>Latonya</td>\n",
              "      <td>Genaro</td>\n",
              "      <td>Darcy</td>\n",
              "      <td>Louis</td>\n",
              "      <td>Homer</td>\n",
              "      <td>10</td>\n",
              "      <td>Bradley</td>\n",
              "    </tr>\n",
              "    <tr>\n",
              "      <th>1</th>\n",
              "      <td>trenton@purdue.edu</td>\n",
              "      <td>Eleanor</td>\n",
              "      <td>Yvette</td>\n",
              "      <td>Teddy</td>\n",
              "      <td>Kathleen</td>\n",
              "      <td>Damian</td>\n",
              "      <td>Aileen</td>\n",
              "      <td>Carmela</td>\n",
              "      <td>Darcy</td>\n",
              "      <td>Quinn</td>\n",
              "      <td>Gilbert</td>\n",
              "      <td>10</td>\n",
              "      <td>Trenton</td>\n",
              "    </tr>\n",
              "    <tr>\n",
              "      <th>2</th>\n",
              "      <td>brianna@purdue.edu</td>\n",
              "      <td>Homer</td>\n",
              "      <td>Arturo</td>\n",
              "      <td>Carmela</td>\n",
              "      <td>Louis</td>\n",
              "      <td>Kathleen</td>\n",
              "      <td>Aileen</td>\n",
              "      <td>Hung</td>\n",
              "      <td>Donte</td>\n",
              "      <td>James</td>\n",
              "      <td>Erma</td>\n",
              "      <td>10</td>\n",
              "      <td>Brianna</td>\n",
              "    </tr>\n",
              "    <tr>\n",
              "      <th>3</th>\n",
              "      <td>cristobal@purdue.edu</td>\n",
              "      <td>James</td>\n",
              "      <td>Genaro</td>\n",
              "      <td>Gilbert</td>\n",
              "      <td>Erma</td>\n",
              "      <td>Hung</td>\n",
              "      <td>Eleanor</td>\n",
              "      <td>Abdul</td>\n",
              "      <td>Travis</td>\n",
              "      <td>Isaac</td>\n",
              "      <td>Damian</td>\n",
              "      <td>10</td>\n",
              "      <td>Cristobal</td>\n",
              "    </tr>\n",
              "    <tr>\n",
              "      <th>4</th>\n",
              "      <td>billy@purdue.edu</td>\n",
              "      <td>Abdul</td>\n",
              "      <td>Jan</td>\n",
              "      <td>Louis</td>\n",
              "      <td>Donnie</td>\n",
              "      <td>Hung</td>\n",
              "      <td>Yvette</td>\n",
              "      <td>James</td>\n",
              "      <td>Kaye</td>\n",
              "      <td>Travis</td>\n",
              "      <td>Donte</td>\n",
              "      <td>10</td>\n",
              "      <td>Billy</td>\n",
              "    </tr>\n",
              "  </tbody>\n",
              "</table>\n",
              "</div>"
            ],
            "text/plain": [
              "          Email address Rank 1 (Top Choice)  ... Timestamp What's your name?\n",
              "0    bradley@purdue.edu               Quinn  ...        10           Bradley\n",
              "1    trenton@purdue.edu             Eleanor  ...        10           Trenton\n",
              "2    brianna@purdue.edu               Homer  ...        10           Brianna\n",
              "3  cristobal@purdue.edu               James  ...        10         Cristobal\n",
              "4      billy@purdue.edu               Abdul  ...        10             Billy\n",
              "\n",
              "[5 rows x 13 columns]"
            ]
          },
          "metadata": {},
          "execution_count": 302
        }
      ]
    },
    {
      "cell_type": "markdown",
      "metadata": {
        "id": "KvdUJhhRqHh_"
      },
      "source": [
        "## Preprocessing"
      ]
    },
    {
      "cell_type": "markdown",
      "metadata": {
        "id": "kdpQbQr7Qh8c"
      },
      "source": [
        "Since Stable Marriage requires an (2N)x(N) mapping, we're randomly ranking people between 11-30 to get to a 60 x 30 mapping.\n",
        "\n",
        "Our assumption is that most matchings would happen between people who ranked each other in their top 10. We'll then figure out people who didn't get matches between 1-10 and manually review their profiles and match them."
      ]
    },
    {
      "cell_type": "code",
      "metadata": {
        "colab": {
          "base_uri": "https://localhost:8080/"
        },
        "id": "kcxbJPCpvCAe",
        "outputId": "75675795-0ba6-449b-ac56-1d4e48e752a5"
      },
      "source": [
        "tor_p = {} #mentor preferences\n",
        "tee_p = {} #mentee preferences\n",
        "\n",
        "tors = mentors.to_numpy().reshape(30)\n",
        "tees = mentees.to_numpy().reshape(30)\n",
        "\n",
        "# Setup dictionaries with names as keys\n",
        "\n",
        "for i in tors:\n",
        "  tor_p[i] = [] \n",
        "\n",
        "for i in tees:\n",
        "  tee_p[i] = []\n",
        "\n",
        "# Building mentor ranks\n",
        "for i in mentee_ranks.iterrows():\n",
        "  name = i[1][\"What's your name?\"]\n",
        "  tor_p[name].append(i[1][\"Rank 1 (Top Choice)\"])\n",
        "  for j in range(1, 10):\n",
        "    tor_p[name].append(i[1][\"Rank %d\" % (j + 1)]) # Add 1-10 rankings to each person\n",
        "  remaining = np.setdiff1d(tees, tor_p[name])\n",
        "  np.random.shuffle(remaining) # Shuffle remaining 11-20 rankings (see explanation above)\n",
        "  for j in remaining:\n",
        "    tor_p[name].append(j)\n",
        "print(\"Mentor Rankings: \", tor_p)\n",
        "\n",
        "# Building mentee ranks\n",
        "for i in mentor_ranks.iterrows():\n",
        "  name = i[1][\"What's your name?\"]\n",
        "  tee_p[name].append(i[1][\"Rank 1 (Top Choice)\"])\n",
        "  for j in range(1, 10):\n",
        "    tee_p[name].append(i[1][\"Rank %d\" % (j + 1)])\n",
        "  remaining = np.setdiff1d(tors, tee_p[name])\n",
        "  np.random.shuffle(remaining)\n",
        "  for j in remaining:\n",
        "    tee_p[name].append(j)\n",
        "print(\"Mentee Rankings: \", tee_p)"
      ],
      "execution_count": null,
      "outputs": [
        {
          "output_type": "stream",
          "name": "stdout",
          "text": [
            "Mentor Rankings:  {'Isaac': ['Althea', 'Becky', 'Kris', 'Paula', 'John', 'Lawanda', 'Sean', 'Rhoda', 'Catherine', 'Rowena', 'Stefan', 'Dianna', 'Bradley', 'Everett', 'Dean', 'Billy', 'Franklin', 'Hubert', 'Rosalind', 'Brianna', 'Hobert', 'Walker', 'Cristobal', 'Deangelo', 'Simone', 'Erica', 'Teddy', 'Trenton', 'Irene', 'Kasey'], 'Aileen': ['Dean', 'John', 'Rowena', 'Billy', 'Teddy', 'Catherine', 'Dianna', 'Kris', 'Lawanda', 'Cristobal', 'Brianna', 'Rosalind', 'Erica', 'Trenton', 'Stefan', 'Hubert', 'Sean', 'Becky', 'Paula', 'Irene', 'Deangelo', 'Walker', 'Franklin', 'Bradley', 'Hobert', 'Althea', 'Everett', 'Rhoda', 'Simone', 'Kasey'], 'Jan': ['Brianna', 'Sean', 'Rosalind', 'Everett', 'Cristobal', 'Teddy', 'Catherine', 'Hobert', 'Walker', 'Simone', 'Dean', 'Bradley', 'Billy', 'Dianna', 'John', 'Lawanda', 'Irene', 'Trenton', 'Hubert', 'Althea', 'Becky', 'Paula', 'Rowena', 'Deangelo', 'Erica', 'Rhoda', 'Kris', 'Franklin', 'Kasey', 'Stefan'], 'Donnie': ['Erica', 'Deangelo', 'Becky', 'Kasey', 'Cristobal', 'Paula', 'Everett', 'Hubert', 'Billy', 'John', 'Teddy', 'Franklin', 'Dianna', 'Catherine', 'Lawanda', 'Althea', 'Irene', 'Simone', 'Bradley', 'Brianna', 'Walker', 'Rhoda', 'Rosalind', 'Kris', 'Sean', 'Stefan', 'Rowena', 'Dean', 'Trenton', 'Hobert'], 'Sammy': ['Rosalind', 'Cristobal', 'Becky', 'Simone', 'Erica', 'Irene', 'Brianna', 'Dianna', 'Paula', 'Catherine', 'Hobert', 'Everett', 'John', 'Althea', 'Franklin', 'Kasey', 'Teddy', 'Stefan', 'Hubert', 'Rhoda', 'Rowena', 'Bradley', 'Lawanda', 'Sean', 'Dean', 'Kris', 'Deangelo', 'Trenton', 'Walker', 'Billy'], 'Gilbert': ['Catherine', 'Sean', 'Dianna', 'Deangelo', 'Rosalind', 'Bradley', 'Kasey', 'Everett', 'Franklin', 'Rhoda', 'Cristobal', 'Dean', 'Billy', 'Trenton', 'Hubert', 'Kris', 'Becky', 'Erica', 'Irene', 'Hobert', 'Althea', 'Walker', 'Stefan', 'Simone', 'Paula', 'Lawanda', 'Teddy', 'Rowena', 'John', 'Brianna'], 'Abdul': ['Hubert', 'Deangelo', 'Billy', 'Althea', 'Kasey', 'Dianna', 'Kris', 'Catherine', 'Sean', 'Stefan', 'Everett', 'Lawanda', 'Rowena', 'Rosalind', 'Simone', 'Erica', 'Rhoda', 'Trenton', 'Walker', 'Cristobal', 'Franklin', 'Becky', 'John', 'Bradley', 'Dean', 'Teddy', 'Paula', 'Hobert', 'Brianna', 'Irene'], 'Kent': ['Paula', 'Kris', 'Rowena', 'Billy', 'Hobert', 'Catherine', 'Althea', 'Rosalind', 'Lawanda', 'Hubert', 'Stefan', 'Cristobal', 'Trenton', 'John', 'Franklin', 'Deangelo', 'Walker', 'Dean', 'Everett', 'Teddy', 'Rhoda', 'Irene', 'Dianna', 'Simone', 'Brianna', 'Erica', 'Kasey', 'Bradley', 'Becky', 'Sean'], 'Hiram': ['Becky', 'Hubert', 'Catherine', 'Stefan', 'Sean', 'Althea', 'Bradley', 'Dianna', 'Rosalind', 'Rhoda', 'Paula', 'Franklin', 'Teddy', 'Simone', 'Rowena', 'Irene', 'Cristobal', 'Kris', 'Lawanda', 'John', 'Everett', 'Trenton', 'Dean', 'Kasey', 'Deangelo', 'Brianna', 'Walker', 'Hobert', 'Billy', 'Erica'], 'Louis': ['Franklin', 'Becky', 'Catherine', 'Irene', 'Everett', 'Teddy', 'Stefan', 'Hubert', 'Kris', 'Trenton', 'Althea', 'Paula', 'Rowena', 'Erica', 'Rosalind', 'Walker', 'Dean', 'Hobert', 'Brianna', 'Kasey', 'John', 'Deangelo', 'Simone', 'Rhoda', 'Lawanda', 'Billy', 'Sean', 'Cristobal', 'Dianna', 'Bradley'], 'Erma': ['Teddy', 'Kasey', 'Rhoda', 'John', 'Everett', 'Trenton', 'Brianna', 'Kris', 'Paula', 'Becky', 'Irene', 'Stefan', 'Billy', 'Bradley', 'Cristobal', 'Sean', 'Dianna', 'Simone', 'Rowena', 'Deangelo', 'Hubert', 'Catherine', 'Dean', 'Althea', 'Erica', 'Rosalind', 'Walker', 'Hobert', 'Franklin', 'Lawanda'], 'Genaro': ['John', 'Deangelo', 'Cristobal', 'Dianna', 'Hobert', 'Rhoda', 'Hubert', 'Catherine', 'Teddy', 'Paula', 'Kasey', 'Kris', 'Brianna', 'Irene', 'Sean', 'Rowena', 'Dean', 'Erica', 'Lawanda', 'Franklin', 'Walker', 'Billy', 'Simone', 'Everett', 'Trenton', 'Stefan', 'Bradley', 'Becky', 'Althea', 'Rosalind'], 'Darcy': ['Billy', 'Lawanda', 'Everett', 'Becky', 'Rosalind', 'Kris', 'John', 'Bradley', 'Franklin', 'Paula', 'Catherine', 'Walker', 'Dianna', 'Dean', 'Hubert', 'Kasey', 'Rhoda', 'Irene', 'Trenton', 'Teddy', 'Althea', 'Erica', 'Sean', 'Simone', 'Hobert', 'Stefan', 'Brianna', 'Rowena', 'Deangelo', 'Cristobal'], 'Yvette': ['Franklin', 'Sean', 'Trenton', 'Stefan', 'Althea', 'Dianna', 'Kris', 'Hobert', 'Erica', 'Rosalind', 'Lawanda', 'Rowena', 'Bradley', 'John', 'Rhoda', 'Walker', 'Teddy', 'Catherine', 'Irene', 'Hubert', 'Deangelo', 'Dean', 'Kasey', 'Brianna', 'Becky', 'Everett', 'Simone', 'Paula', 'Billy', 'Cristobal'], 'James': ['Rowena', 'Franklin', 'Bradley', 'Kasey', 'John', 'Brianna', 'Dean', 'Teddy', 'Althea', 'Catherine', 'Billy', 'Stefan', 'Rhoda', 'Irene', 'Cristobal', 'Hubert', 'Lawanda', 'Everett', 'Paula', 'Walker', 'Erica', 'Rosalind', 'Hobert', 'Simone', 'Deangelo', 'Dianna', 'Trenton', 'Becky', 'Sean', 'Kris'], 'Homer': ['Kasey', 'Cristobal', 'Dean', 'Walker', 'Sean', 'Hobert', 'Deangelo', 'Rosalind', 'Everett', 'Kris', 'Irene', 'Lawanda', 'Rhoda', 'Teddy', 'Billy', 'Simone', 'Catherine', 'Rowena', 'Althea', 'Paula', 'Erica', 'Hubert', 'Trenton', 'Becky', 'Bradley', 'Dianna', 'Stefan', 'Brianna', 'John', 'Franklin'], 'Kaye': ['Kris', 'Walker', 'Stefan', 'John', 'Billy', 'Paula', 'Cristobal', 'Kasey', 'Erica', 'Becky', 'Teddy', 'Simone', 'Trenton', 'Rhoda', 'Irene', 'Lawanda', 'Deangelo', 'Dianna', 'Hubert', 'Sean', 'Althea', 'Bradley', 'Brianna', 'Everett', 'Rowena', 'Franklin', 'Rosalind', 'Hobert', 'Catherine', 'Dean'], 'Donte': ['Rowena', 'Lawanda', 'Bradley', 'Rosalind', 'John', 'Sean', 'Teddy', 'Hobert', 'Kasey', 'Becky', 'Dean', 'Everett', 'Billy', 'Simone', 'Brianna', 'Dianna', 'Rhoda', 'Deangelo', 'Kris', 'Stefan', 'Cristobal', 'Paula', 'Franklin', 'Erica', 'Trenton', 'Hubert', 'Walker', 'Irene', 'Althea', 'Catherine'], 'Teddy': ['Everett', 'Dianna', 'Cristobal', 'Bradley', 'Becky', 'Franklin', 'Kris', 'Teddy', 'Catherine', 'Althea', 'Billy', 'Walker', 'Kasey', 'Stefan', 'Sean', 'Dean', 'Paula', 'Lawanda', 'Rosalind', 'Trenton', 'Erica', 'Hobert', 'Brianna', 'Deangelo', 'Rhoda', 'Hubert', 'Simone', 'John', 'Rowena', 'Irene'], 'Damian': ['Hubert', 'Lawanda', 'John', 'Teddy', 'Brianna', 'Cristobal', 'Catherine', 'Walker', 'Stefan', 'Becky', 'Deangelo', 'Erica', 'Dianna', 'Irene', 'Kasey', 'Paula', 'Hobert', 'Rhoda', 'Billy', 'Bradley', 'Franklin', 'Althea', 'Rosalind', 'Everett', 'Kris', 'Simone', 'Sean', 'Rowena', 'Dean', 'Trenton'], 'Berta': ['John', 'Catherine', 'Kris', 'Teddy', 'Stefan', 'Franklin', 'Hobert', 'Trenton', 'Simone', 'Rhoda', 'Erica', 'Rowena', 'Brianna', 'Bradley', 'Everett', 'Dean', 'Paula', 'Deangelo', 'Billy', 'Irene', 'Althea', 'Lawanda', 'Dianna', 'Hubert', 'Walker', 'Rosalind', 'Kasey', 'Becky', 'Sean', 'Cristobal'], 'Quinn': ['Lawanda', 'Dianna', 'Becky', 'Kris', 'Brianna', 'Stefan', 'Hobert', 'Paula', 'Cristobal', 'Everett', 'Billy', 'Walker', 'Rhoda', 'Kasey', 'Rowena', 'Althea', 'Erica', 'Teddy', 'Rosalind', 'Sean', 'John', 'Bradley', 'Dean', 'Simone', 'Trenton', 'Irene', 'Hubert', 'Deangelo', 'Franklin', 'Catherine'], 'Eleanor': ['John', 'Everett', 'Deangelo', 'Becky', 'Paula', 'Franklin', 'Hubert', 'Teddy', 'Simone', 'Rhoda', 'Dianna', 'Kris', 'Lawanda', 'Cristobal', 'Walker', 'Stefan', 'Kasey', 'Irene', 'Rosalind', 'Billy', 'Dean', 'Catherine', 'Bradley', 'Trenton', 'Althea', 'Erica', 'Rowena', 'Brianna', 'Sean', 'Hobert'], 'Travis': ['Stefan', 'Kris', 'Paula', 'Catherine', 'Irene', 'John', 'Simone', 'Everett', 'Rowena', 'Erica', 'Brianna', 'Becky', 'Billy', 'Rhoda', 'Althea', 'Kasey', 'Teddy', 'Lawanda', 'Hobert', 'Walker', 'Sean', 'Dianna', 'Dean', 'Hubert', 'Franklin', 'Bradley', 'Trenton', 'Rosalind', 'Deangelo', 'Cristobal'], 'Arturo': ['Rosalind', 'Cristobal', 'Paula', 'Dean', 'Rowena', 'Catherine', 'Erica', 'Lawanda', 'Rhoda', 'Bradley', 'Walker', 'Kasey', 'Sean', 'Franklin', 'Billy', 'Brianna', 'Teddy', 'Simone', 'Kris', 'Hubert', 'John', 'Althea', 'Trenton', 'Hobert', 'Stefan', 'Dianna', 'Becky', 'Everett', 'Deangelo', 'Irene'], 'Latonya': ['Paula', 'Rosalind', 'Kris', 'Rowena', 'Franklin', 'Bradley', 'Dean', 'Everett', 'Kasey', 'Trenton', 'Simone', 'Catherine', 'Erica', 'Rhoda', 'Althea', 'Cristobal', 'Walker', 'Brianna', 'Hubert', 'Teddy', 'Dianna', 'Sean', 'Deangelo', 'Lawanda', 'Hobert', 'John', 'Billy', 'Becky', 'Irene', 'Stefan'], 'Hung': ['John', 'Rosalind', 'Irene', 'Simone', 'Sean', 'Catherine', 'Hubert', 'Rowena', 'Hobert', 'Erica', 'Stefan', 'Brianna', 'Walker', 'Althea', 'Billy', 'Lawanda', 'Rhoda', 'Dean', 'Franklin', 'Deangelo', 'Trenton', 'Dianna', 'Cristobal', 'Paula', 'Bradley', 'Becky', 'Kasey', 'Everett', 'Teddy', 'Kris'], 'Kathleen': ['Trenton', 'Kris', 'Franklin', 'Becky', 'Catherine', 'Dianna', 'Hubert', 'Hobert', 'Billy', 'Kasey', 'Simone', 'Rhoda', 'Stefan', 'Bradley', 'Brianna', 'Irene', 'Teddy', 'Lawanda', 'Everett', 'Dean', 'Rowena', 'John', 'Sean', 'Rosalind', 'Deangelo', 'Erica', 'Walker', 'Althea', 'Paula', 'Cristobal'], 'Carmela': ['Rosalind', 'Becky', 'Sean', 'Irene', 'Franklin', 'Bradley', 'Catherine', 'Billy', 'Everett', 'Hubert', 'Erica', 'Paula', 'Dean', 'Kasey', 'Deangelo', 'Cristobal', 'Trenton', 'Rhoda', 'Hobert', 'Teddy', 'Dianna', 'Brianna', 'Walker', 'Stefan', 'Kris', 'Rowena', 'Althea', 'John', 'Lawanda', 'Simone'], 'Brandy': ['Hobert', 'Paula', 'Althea', 'Kasey', 'Bradley', 'Cristobal', 'Dianna', 'Simone', 'Franklin', 'Deangelo', 'Becky', 'Rhoda', 'Everett', 'Brianna', 'Hubert', 'Billy', 'Sean', 'Walker', 'John', 'Rosalind', 'Irene', 'Lawanda', 'Teddy', 'Kris', 'Trenton', 'Erica', 'Dean', 'Stefan', 'Rowena', 'Catherine']}\n",
            "Mentee Rankings:  {'Bradley': ['Quinn', 'Donte', 'Abdul', 'Arturo', 'Latonya', 'Genaro', 'Darcy', 'Louis', 'Homer', 'Sammy', 'Yvette', 'Teddy', 'Carmela', 'Eleanor', 'Brandy', 'James', 'Hung', 'Travis', 'Hiram', 'Isaac', 'Gilbert', 'Donnie', 'Kaye', 'Berta', 'Kent', 'Damian', 'Erma', 'Jan', 'Kathleen', 'Aileen'], 'Trenton': ['Eleanor', 'Teddy', 'Kathleen', 'Damian', 'Aileen', 'Carmela', 'Darcy', 'Quinn', 'Gilbert', 'Yvette', 'Jan', 'Genaro', 'Latonya', 'Hiram', 'Abdul', 'Sammy', 'Erma', 'Brandy', 'Berta', 'Arturo', 'Louis', 'Travis', 'Homer', 'James', 'Isaac', 'Donnie', 'Kent', 'Kaye', 'Hung', 'Donte'], 'Brianna': ['Homer', 'Carmela', 'Louis', 'Kathleen', 'Aileen', 'Hung', 'Donte', 'James', 'Erma', 'Arturo', 'Damian', 'Darcy', 'Abdul', 'Teddy', 'Donnie', 'Berta', 'Kaye', 'Travis', 'Quinn', 'Latonya', 'Gilbert', 'Hiram', 'Eleanor', 'Yvette', 'Brandy', 'Isaac', 'Kent', 'Jan', 'Genaro', 'Sammy'], 'Cristobal': ['James', 'Gilbert', 'Erma', 'Hung', 'Eleanor', 'Abdul', 'Travis', 'Isaac', 'Damian', 'Genaro', 'Kent', 'Kathleen', 'Quinn', 'Aileen', 'Carmela', 'Arturo', 'Donte', 'Brandy', 'Latonya', 'Berta', 'Sammy', 'Homer', 'Darcy', 'Jan', 'Yvette', 'Kaye', 'Hiram', 'Teddy', 'Donnie', 'Louis'], 'Billy': ['Abdul', 'Louis', 'Donnie', 'Hung', 'Yvette', 'James', 'Kaye', 'Travis', 'Donte', 'Jan', 'Kathleen', 'Latonya', 'Erma', 'Hiram', 'Isaac', 'Teddy', 'Quinn', 'Darcy', 'Damian', 'Gilbert', 'Arturo', 'Genaro', 'Aileen', 'Berta', 'Eleanor', 'Sammy', 'Carmela', 'Kent', 'Homer', 'Brandy'], 'Kris': ['Kaye', 'James', 'Aileen', 'Sammy', 'Carmela', 'Eleanor', 'Arturo', 'Teddy', 'Jan', 'Hung', 'Homer', 'Donte', 'Latonya', 'Gilbert', 'Abdul', 'Brandy', 'Isaac', 'Genaro', 'Darcy', 'Kathleen', 'Erma', 'Travis', 'Hiram', 'Louis', 'Yvette', 'Donnie', 'Damian', 'Quinn', 'Berta', 'Kent'], 'Erica': ['Latonya', 'Hung', 'Hiram', 'Genaro', 'Teddy', 'Eleanor', 'Carmela', 'Brandy', 'Arturo', 'Louis', 'Kaye', 'Yvette', 'Sammy', 'Abdul', 'Donte', 'Quinn', 'Darcy', 'Berta', 'Gilbert', 'Jan', 'Aileen', 'Kathleen', 'James', 'Isaac', 'Donnie', 'Kent', 'Damian', 'Homer', 'Travis', 'Erma'], 'Franklin': ['Homer', 'Donnie', 'Kaye', 'Isaac', 'Donte', 'Yvette', 'Travis', 'Berta', 'Aileen', 'Eleanor', 'Latonya', 'Abdul', 'James', 'Gilbert', 'Carmela', 'Sammy', 'Louis', 'Damian', 'Kent', 'Hung', 'Quinn', 'Genaro', 'Arturo', 'Jan', 'Kathleen', 'Hiram', 'Brandy', 'Teddy', 'Erma', 'Darcy'], 'Dean': ['James', 'Donnie', 'Genaro', 'Homer', 'Isaac', 'Quinn', 'Aileen', 'Brandy', 'Yvette', 'Latonya', 'Kathleen', 'Sammy', 'Kaye', 'Hiram', 'Teddy', 'Arturo', 'Gilbert', 'Berta', 'Kent', 'Donte', 'Damian', 'Hung', 'Eleanor', 'Travis', 'Carmela', 'Darcy', 'Louis', 'Jan', 'Erma', 'Abdul'], 'Catherine': ['Donnie', 'Louis', 'Carmela', 'Gilbert', 'Sammy', 'Quinn', 'James', 'Berta', 'Arturo', 'Kathleen', 'Homer', 'Aileen', 'Damian', 'Darcy', 'Travis', 'Genaro', 'Kaye', 'Abdul', 'Teddy', 'Erma', 'Donte', 'Yvette', 'Eleanor', 'Jan', 'Latonya', 'Brandy', 'Isaac', 'Hung', 'Hiram', 'Kent'], 'Hobert': ['Berta', 'Kent', 'Homer', 'Hung', 'Damian', 'Quinn', 'Isaac', 'Carmela', 'Louis', 'Donnie', 'Erma', 'Darcy', 'Arturo', 'Eleanor', 'Teddy', 'James', 'Sammy', 'Gilbert', 'Hiram', 'Donte', 'Kathleen', 'Abdul', 'Travis', 'Kaye', 'Brandy', 'Genaro', 'Yvette', 'Aileen', 'Jan', 'Latonya'], 'Rowena': ['Yvette', 'Carmela', 'Isaac', 'Latonya', 'Hung', 'Eleanor', 'Gilbert', 'Teddy', 'Genaro', 'Aileen', 'Kent', 'Donnie', 'Damian', 'Quinn', 'Brandy', 'Louis', 'James', 'Kathleen', 'Kaye', 'Jan', 'Sammy', 'Donte', 'Abdul', 'Homer', 'Berta', 'Hiram', 'Travis', 'Erma', 'Darcy', 'Arturo'], 'Kasey': ['Homer', 'Darcy', 'Yvette', 'Abdul', 'Arturo', 'Damian', 'Donnie', 'Latonya', 'Eleanor', 'Quinn', 'Louis', 'Berta', 'Carmela', 'Travis', 'Jan', 'Aileen', 'Isaac', 'Hiram', 'Teddy', 'Genaro', 'Erma', 'Hung', 'Donte', 'Kaye', 'Gilbert', 'James', 'Kent', 'Sammy', 'Brandy', 'Kathleen'], 'Stefan': ['Louis', 'Kaye', 'Gilbert', 'Genaro', 'Abdul', 'Hiram', 'Berta', 'Eleanor', 'Donte', 'Travis', 'Isaac', 'Yvette', 'Aileen', 'Carmela', 'Darcy', 'Brandy', 'Erma', 'James', 'Arturo', 'Donnie', 'Latonya', 'Teddy', 'Kent', 'Kathleen', 'Quinn', 'Sammy', 'Hung', 'Jan', 'Damian', 'Homer'], 'Hubert': ['Yvette', 'Erma', 'Arturo', 'Donnie', 'Donte', 'Carmela', 'Abdul', 'Darcy', 'Isaac', 'Kent', 'Latonya', 'Homer', 'Quinn', 'Kaye', 'Teddy', 'Louis', 'Sammy', 'James', 'Brandy', 'Genaro', 'Hung', 'Gilbert', 'Berta', 'Travis', 'Kathleen', 'Hiram', 'Eleanor', 'Aileen', 'Jan', 'Damian'], 'Simone': ['Travis', 'James', 'Berta', 'Donnie', 'Latonya', 'Abdul', 'Homer', 'Hung', 'Brandy', 'Damian', 'Teddy', 'Darcy', 'Aileen', 'Jan', 'Kent', 'Arturo', 'Quinn', 'Louis', 'Carmela', 'Genaro', 'Eleanor', 'Isaac', 'Kathleen', 'Yvette', 'Gilbert', 'Erma', 'Donte', 'Hiram', 'Sammy', 'Kaye'], 'Becky': ['Aileen', 'Hung', 'Jan', 'Homer', 'Eleanor', 'Teddy', 'Quinn', 'Damian', 'Gilbert', 'Arturo', 'Donte', 'Louis', 'Isaac', 'Sammy', 'Kathleen', 'Carmela', 'Darcy', 'Latonya', 'Berta', 'Kaye', 'Donnie', 'Abdul', 'Erma', 'Brandy', 'Genaro', 'Yvette', 'James', 'Kent', 'Hiram', 'Travis'], 'Paula': ['Hung', 'Latonya', 'Darcy', 'Yvette', 'Homer', 'Carmela', 'Quinn', 'Erma', 'Damian', 'Kent', 'James', 'Kaye', 'Isaac', 'Donnie', 'Abdul', 'Genaro', 'Sammy', 'Aileen', 'Kathleen', 'Jan', 'Eleanor', 'Donte', 'Hiram', 'Travis', 'Arturo', 'Teddy', 'Brandy', 'Louis', 'Berta', 'Gilbert'], 'Rosalind': ['Louis', 'Donnie', 'Sammy', 'Aileen', 'Jan', 'Arturo', 'Erma', 'Donte', 'Travis', 'Hung', 'Isaac', 'Teddy', 'Darcy', 'Hiram', 'Berta', 'Kaye', 'James', 'Brandy', 'Gilbert', 'Latonya', 'Genaro', 'Abdul', 'Homer', 'Carmela', 'Kent', 'Kathleen', 'Quinn', 'Damian', 'Yvette', 'Eleanor'], 'Althea': ['Brandy', 'Hung', 'Berta', 'Arturo', 'Homer', 'Erma', 'Jan', 'Eleanor', 'Carmela', 'Hiram', 'Aileen', 'Louis', 'Darcy', 'Damian', 'Kent', 'Genaro', 'Teddy', 'James', 'Sammy', 'Donte', 'Kathleen', 'Yvette', 'Travis', 'Quinn', 'Gilbert', 'Isaac', 'Latonya', 'Donnie', 'Kaye', 'Abdul'], 'Dianna': ['Latonya', 'Jan', 'Berta', 'Isaac', 'Quinn', 'Arturo', 'Donte', 'Louis', 'Abdul', 'Sammy', 'Damian', 'Donnie', 'Hung', 'Genaro', 'Carmela', 'Teddy', 'Homer', 'Yvette', 'Erma', 'Kent', 'Gilbert', 'Aileen', 'Hiram', 'Eleanor', 'Brandy', 'Kathleen', 'Kaye', 'Travis', 'James', 'Darcy'], 'Teddy': ['Jan', 'Carmela', 'Damian', 'Hiram', 'Berta', 'Teddy', 'Genaro', 'Kaye', 'Erma', 'Kathleen', 'James', 'Isaac', 'Latonya', 'Darcy', 'Travis', 'Donte', 'Arturo', 'Quinn', 'Sammy', 'Eleanor', 'Yvette', 'Brandy', 'Homer', 'Louis', 'Hung', 'Gilbert', 'Aileen', 'Kent', 'Abdul', 'Donnie'], 'John': ['Travis', 'Eleanor', 'Louis', 'Abdul', 'Donte', 'Aileen', 'Carmela', 'Arturo', 'Isaac', 'Sammy', 'Darcy', 'Damian', 'Erma', 'Kathleen', 'Gilbert', 'Kent', 'Teddy', 'Hiram', 'Brandy', 'Kaye', 'Homer', 'James', 'Latonya', 'Berta', 'Quinn', 'Yvette', 'Genaro', 'Jan', 'Donnie', 'Hung'], 'Deangelo': ['Darcy', 'Quinn', 'Kaye', 'Sammy', 'Brandy', 'Donte', 'Louis', 'Homer', 'Carmela', 'Yvette', 'Arturo', 'Travis', 'Teddy', 'Berta', 'Latonya', 'Damian', 'Kathleen', 'Jan', 'Aileen', 'Eleanor', 'Hiram', 'Donnie', 'Isaac', 'Gilbert', 'Erma', 'Kent', 'James', 'Abdul', 'Genaro', 'Hung'], 'Walker': ['Arturo', 'Latonya', 'Kaye', 'Quinn', 'Yvette', 'Genaro', 'Kent', 'Travis', 'Donte', 'Brandy', 'Donnie', 'Darcy', 'Damian', 'Jan', 'Abdul', 'Sammy', 'Louis', 'Gilbert', 'Aileen', 'Homer', 'Teddy', 'Erma', 'Hung', 'Berta', 'Kathleen', 'Eleanor', 'Carmela', 'Hiram', 'Isaac', 'James'], 'Rhoda': ['Hung', 'Homer', 'Sammy', 'Brandy', 'Eleanor', 'Yvette', 'Genaro', 'Travis', 'Aileen', 'Damian', 'Carmela', 'Hiram', 'Arturo', 'Kent', 'Teddy', 'James', 'Kathleen', 'Louis', 'Latonya', 'Jan', 'Isaac', 'Quinn', 'Donnie', 'Kaye', 'Berta', 'Gilbert', 'Darcy', 'Abdul', 'Donte', 'Erma'], 'Sean': ['Travis', 'Sammy', 'Yvette', 'Aileen', 'Kaye', 'Abdul', 'Brandy', 'Darcy', 'Berta', 'Gilbert', 'Eleanor', 'Arturo', 'Homer', 'Donnie', 'Erma', 'Hiram', 'Isaac', 'Jan', 'Carmela', 'Genaro', 'Donte', 'Damian', 'Quinn', 'James', 'Louis', 'Kathleen', 'Teddy', 'Hung', 'Latonya', 'Kent'], 'Irene': ['Isaac', 'Kaye', 'Quinn', 'Kathleen', 'Latonya', 'Teddy', 'Gilbert', 'Berta', 'Hiram', 'Genaro', 'Aileen', 'Donte', 'Erma', 'Hung', 'Carmela', 'James', 'Sammy', 'Travis', 'Homer', 'Kent', 'Louis', 'Abdul', 'Damian', 'Eleanor', 'Darcy', 'Brandy', 'Donnie', 'Jan', 'Yvette', 'Arturo'], 'Everett': ['Isaac', 'Hung', 'Latonya', 'Arturo', 'Donnie', 'Quinn', 'Teddy', 'Kent', 'Genaro', 'Sammy', 'Abdul', 'Travis', 'Aileen', 'Brandy', 'Berta', 'Damian', 'Erma', 'Hiram', 'Homer', 'Carmela', 'Louis', 'Darcy', 'Kathleen', 'Eleanor', 'Kaye', 'Jan', 'James', 'Gilbert', 'Yvette', 'Donte'], 'Lawanda': ['Quinn', 'Isaac', 'Gilbert', 'James', 'Berta', 'Louis', 'Donte', 'Kent', 'Darcy', 'Hung', 'Yvette', 'Homer', 'Genaro', 'Hiram', 'Arturo', 'Eleanor', 'Brandy', 'Carmela', 'Erma', 'Abdul', 'Kathleen', 'Kaye', 'Aileen', 'Latonya', 'Damian', 'Jan', 'Donnie', 'Teddy', 'Travis', 'Sammy']}\n"
          ]
        }
      ]
    },
    {
      "cell_type": "markdown",
      "metadata": {
        "id": "QrPKzGCcOoW-"
      },
      "source": [
        "## Stable Marriage"
      ]
    },
    {
      "cell_type": "markdown",
      "metadata": {
        "id": "Ijdu2c7vQv4H"
      },
      "source": [
        "This does a better explanation than I could: https://en.wikipedia.org/wiki/Stable_marriage_problem"
      ]
    },
    {
      "cell_type": "code",
      "metadata": {
        "colab": {
          "base_uri": "https://localhost:8080/"
        },
        "id": "6awrYWMA00W1",
        "outputId": "a6aceba8-b060-4c4b-cc00-0dca557b3ed8"
      },
      "source": [
        "import copy\n",
        "\n",
        "## Disclosure: This is copied from https://rosettacode.org/wiki/Stable_marriage_problem#Python\n",
        "\n",
        "guyprefers = tor_p\n",
        "galprefers = tee_p\n",
        "guys = sorted(tor_p.keys())\n",
        "gals = sorted(tee_p.keys()) \n",
        "\n",
        "def check(engaged):\n",
        "    inverseengaged = dict((v,k) for k,v in engaged.items())\n",
        "    for she, he in engaged.items():\n",
        "        shelikes = galprefers[she]\n",
        "        shelikesbetter = shelikes[:shelikes.index(he)]\n",
        "        helikes = guyprefers[he]\n",
        "        helikesbetter = helikes[:helikes.index(she)]\n",
        "        for guy in shelikesbetter:\n",
        "            guysgirl = inverseengaged[guy]\n",
        "            guylikes = guyprefers[guy]\n",
        "            if guylikes.index(guysgirl) > guylikes.index(she):\n",
        "                print(\"%s and %s like each other better than \"\n",
        "                      \"their present partners: %s and %s, respectively\"\n",
        "                      % (she, guy, he, guysgirl))\n",
        "                return False\n",
        "        for gal in helikesbetter:\n",
        "            girlsguy = engaged[gal]\n",
        "            gallikes = galprefers[gal]\n",
        "            if gallikes.index(girlsguy) > gallikes.index(he):\n",
        "                print(\"%s and %s like each other better than \"\n",
        "                      \"their present partners: %s and %s, respectively\"\n",
        "                      % (he, gal, she, girlsguy))\n",
        "                return False\n",
        "    return True\n",
        " \n",
        "def matchmaker():\n",
        "    guysfree = guys[:]\n",
        "    engaged  = {}\n",
        "    guyprefers2 = copy.deepcopy(guyprefers)\n",
        "    galprefers2 = copy.deepcopy(galprefers)\n",
        "    while guysfree:\n",
        "        guy = guysfree.pop(0)\n",
        "        guyslist = guyprefers2[guy]\n",
        "        gal = guyslist.pop(0)\n",
        "        fiance = engaged.get(gal)\n",
        "        if not fiance:\n",
        "            # She's free\n",
        "            engaged[gal] = guy\n",
        "            print(\"  %s and %s\" % (guy, gal))\n",
        "        else:\n",
        "            # The bounder proposes to an engaged lass!\n",
        "            galslist = galprefers2[gal]\n",
        "            if galslist.index(fiance) > galslist.index(guy):\n",
        "                # She prefers new guy\n",
        "                engaged[gal] = guy\n",
        "                print(\"  %s dumped %s for %s\" % (gal, fiance, guy))\n",
        "                if guyprefers2[fiance]:\n",
        "                    # Ex has more girls to try\n",
        "                    guysfree.append(fiance)\n",
        "            else:\n",
        "                # She is faithful to old fiance\n",
        "                if guyslist:\n",
        "                    # Look again\n",
        "                    guysfree.append(guy)\n",
        "    return engaged\n",
        " \n",
        " \n",
        "print('\\nPairings:')\n",
        "engaged = matchmaker()\n",
        " \n",
        "print('\\nMentor-Mentee Pairs:')\n",
        "print('  ' + ',\\n  '.join('%s is paired to %s' % couple\n",
        "                          for couple in sorted(engaged.items())))\n",
        "print()\n",
        "print('Pairing stability check PASSED'\n",
        "      if check(engaged) else 'Pairing stability check FAILED')"
      ],
      "execution_count": null,
      "outputs": [
        {
          "output_type": "stream",
          "name": "stdout",
          "text": [
            "\n",
            "Pairings:\n",
            "  Abdul and Hubert\n",
            "  Aileen and Dean\n",
            "  Arturo and Rosalind\n",
            "  Berta and John\n",
            "  Brandy and Hobert\n",
            "  Darcy and Billy\n",
            "  Donnie and Erica\n",
            "  Donte and Rowena\n",
            "  John dumped Berta for Eleanor\n",
            "  Erma and Teddy\n",
            "  Gilbert and Catherine\n",
            "  Hiram and Becky\n",
            "  Homer and Kasey\n",
            "  Isaac and Althea\n",
            "  Rowena dumped Donte for James\n",
            "  Jan and Brianna\n",
            "  Kathleen and Trenton\n",
            "  Kaye and Kris\n",
            "  Kent and Paula\n",
            "  Paula dumped Kent for Latonya\n",
            "  Louis and Franklin\n",
            "  Quinn and Lawanda\n",
            "  Rosalind dumped Arturo for Sammy\n",
            "  Teddy and Everett\n",
            "  Travis and Stefan\n",
            "  Franklin dumped Louis for Yvette\n",
            "  Becky dumped Hiram for Carmela\n",
            "  Genaro and Deangelo\n",
            "  Arturo and Cristobal\n",
            "  Becky dumped Carmela for Louis\n",
            "  Hung and Irene\n",
            "  Donte and Bradley\n",
            "  Rowena dumped James for Kent\n",
            "  Carmela and Sean\n",
            "  Teddy dumped Erma for Damian\n",
            "  Stefan dumped Travis for Hiram\n",
            "  Erma and Rhoda\n",
            "  Hobert dumped Brandy for Berta\n",
            "  Brianna dumped Jan for James\n",
            "  Althea dumped Isaac for Brandy\n",
            "  Sean dumped Carmela for Jan\n",
            "  John dumped Eleanor for Travis\n",
            "  Deangelo dumped Genaro for Eleanor\n",
            "  Cristobal dumped Arturo for Genaro\n",
            "  Catherine dumped Gilbert for Carmela\n",
            "  Sean dumped Jan for Gilbert\n",
            "  Rhoda dumped Erma for Isaac\n",
            "  Erica dumped Donnie for Arturo\n",
            "  Teddy dumped Damian for Jan\n",
            "  Cristobal dumped Genaro for Damian\n",
            "  Genaro and Dianna\n",
            "  Everett dumped Teddy for Donnie\n",
            "  Irene dumped Hung for Erma\n",
            "  Hung and Simone\n",
            "  Becky dumped Louis for Teddy\n",
            "  Catherine dumped Carmela for Louis\n",
            "  Hubert dumped Abdul for Carmela\n",
            "  Billy dumped Darcy for Abdul\n",
            "  Darcy and Walker\n",
            "\n",
            "Mentor-Mentee Pairs:\n",
            "  Althea is paired to Brandy,\n",
            "  Becky is paired to Teddy,\n",
            "  Billy is paired to Abdul,\n",
            "  Bradley is paired to Donte,\n",
            "  Brianna is paired to James,\n",
            "  Catherine is paired to Louis,\n",
            "  Cristobal is paired to Damian,\n",
            "  Dean is paired to Aileen,\n",
            "  Deangelo is paired to Eleanor,\n",
            "  Dianna is paired to Genaro,\n",
            "  Erica is paired to Arturo,\n",
            "  Everett is paired to Donnie,\n",
            "  Franklin is paired to Yvette,\n",
            "  Hobert is paired to Berta,\n",
            "  Hubert is paired to Carmela,\n",
            "  Irene is paired to Erma,\n",
            "  John is paired to Travis,\n",
            "  Kasey is paired to Homer,\n",
            "  Kris is paired to Kaye,\n",
            "  Lawanda is paired to Quinn,\n",
            "  Paula is paired to Latonya,\n",
            "  Rhoda is paired to Isaac,\n",
            "  Rosalind is paired to Sammy,\n",
            "  Rowena is paired to Kent,\n",
            "  Sean is paired to Gilbert,\n",
            "  Simone is paired to Hung,\n",
            "  Stefan is paired to Hiram,\n",
            "  Teddy is paired to Jan,\n",
            "  Trenton is paired to Kathleen,\n",
            "  Walker is paired to Darcy\n",
            "\n",
            "Pairing stability check PASSED\n"
          ]
        }
      ]
    },
    {
      "cell_type": "code",
      "metadata": {
        "colab": {
          "base_uri": "https://localhost:8080/"
        },
        "id": "CbnxVLlt2BzU",
        "outputId": "61e7cfd1-1e1d-40d5-cc94-60d34f11a85f"
      },
      "source": [
        "import json\n",
        "print(json.dumps(engaged,sort_keys=True, indent=4))"
      ],
      "execution_count": null,
      "outputs": [
        {
          "output_type": "stream",
          "name": "stdout",
          "text": [
            "{\n",
            "    \"Althea\": \"Brandy\",\n",
            "    \"Becky\": \"Teddy\",\n",
            "    \"Billy\": \"Abdul\",\n",
            "    \"Bradley\": \"Donte\",\n",
            "    \"Brianna\": \"James\",\n",
            "    \"Catherine\": \"Louis\",\n",
            "    \"Cristobal\": \"Damian\",\n",
            "    \"Dean\": \"Aileen\",\n",
            "    \"Deangelo\": \"Eleanor\",\n",
            "    \"Dianna\": \"Genaro\",\n",
            "    \"Erica\": \"Arturo\",\n",
            "    \"Everett\": \"Donnie\",\n",
            "    \"Franklin\": \"Yvette\",\n",
            "    \"Hobert\": \"Berta\",\n",
            "    \"Hubert\": \"Carmela\",\n",
            "    \"Irene\": \"Erma\",\n",
            "    \"John\": \"Travis\",\n",
            "    \"Kasey\": \"Homer\",\n",
            "    \"Kris\": \"Kaye\",\n",
            "    \"Lawanda\": \"Quinn\",\n",
            "    \"Paula\": \"Latonya\",\n",
            "    \"Rhoda\": \"Isaac\",\n",
            "    \"Rosalind\": \"Sammy\",\n",
            "    \"Rowena\": \"Kent\",\n",
            "    \"Sean\": \"Gilbert\",\n",
            "    \"Simone\": \"Hung\",\n",
            "    \"Stefan\": \"Hiram\",\n",
            "    \"Teddy\": \"Jan\",\n",
            "    \"Trenton\": \"Kathleen\",\n",
            "    \"Walker\": \"Darcy\"\n",
            "}\n"
          ]
        }
      ]
    },
    {
      "cell_type": "code",
      "metadata": {
        "colab": {
          "base_uri": "https://localhost:8080/"
        },
        "id": "OzbD6RQhflb7",
        "outputId": "d81f4fb4-bc2a-49b1-d151-124e8e456547"
      },
      "source": [
        "# Figuring out true matches (Where both mentors and mentees actually ranked the people)\n",
        "results = pd.DataFrame()\n",
        "true_matches = {}\n",
        "for k in engaged:\n",
        "  v = engaged[k]\n",
        "  if tor_p[v].index(k) < 10 and tee_p[k].index(v) < 10: # Either one has been selected using random picks\n",
        "    true_matches[k + \", \" + v] = str(tee_p[k].index(v)) + \", \" + str(tor_p[v].index(k))\n",
        "    df = {}\n",
        "    df[\"Mentor Name\"] = v\n",
        "    df[\"Mentee Name\"] = k\n",
        "    df[\"Mentee's Rating\"] = tee_p[k].index(v) + 1\n",
        "    df[\"Mentor's Rating\"] = tor_p[v].index(k) + 1\n",
        "    results = results.append(df, ignore_index=True)\n",
        "print(json.dumps(true_matches,sort_keys=True, indent=4))"
      ],
      "execution_count": null,
      "outputs": [
        {
          "output_type": "stream",
          "name": "stdout",
          "text": [
            "{\n",
            "    \"Althea, Brandy\": \"0, 2\",\n",
            "    \"Becky, Teddy\": \"5, 4\",\n",
            "    \"Billy, Abdul\": \"0, 2\",\n",
            "    \"Bradley, Donte\": \"1, 2\",\n",
            "    \"Brianna, James\": \"7, 5\",\n",
            "    \"Catherine, Louis\": \"1, 2\",\n",
            "    \"Cristobal, Damian\": \"8, 5\",\n",
            "    \"Dean, Aileen\": \"6, 0\",\n",
            "    \"Erica, Arturo\": \"8, 6\",\n",
            "    \"Everett, Donnie\": \"4, 6\",\n",
            "    \"Franklin, Yvette\": \"5, 0\",\n",
            "    \"Hobert, Berta\": \"0, 6\",\n",
            "    \"Hubert, Carmela\": \"5, 9\",\n",
            "    \"John, Travis\": \"0, 5\",\n",
            "    \"Kasey, Homer\": \"0, 0\",\n",
            "    \"Kris, Kaye\": \"0, 0\",\n",
            "    \"Lawanda, Quinn\": \"0, 0\",\n",
            "    \"Paula, Latonya\": \"1, 0\",\n",
            "    \"Rosalind, Sammy\": \"2, 0\",\n",
            "    \"Sean, Gilbert\": \"9, 1\",\n",
            "    \"Simone, Hung\": \"7, 3\",\n",
            "    \"Stefan, Hiram\": \"5, 3\",\n",
            "    \"Teddy, Jan\": \"0, 5\",\n",
            "    \"Trenton, Kathleen\": \"2, 0\"\n",
            "}\n"
          ]
        }
      ]
    },
    {
      "cell_type": "code",
      "metadata": {
        "colab": {
          "base_uri": "https://localhost:8080/"
        },
        "id": "icywwy2zdwcR",
        "outputId": "bd98a50d-8c7c-4ebf-b5df-fa1d45bbfd78"
      },
      "source": [
        "# Figuring out matches made by randomization:\n",
        "\n",
        "random_found = {}\n",
        "for k in engaged:\n",
        "  v = engaged[k]\n",
        "  if tor_p[v].index(k) >= 10 or tee_p[k].index(v) >= 10: # Either one has been selected using random picks\n",
        "    random_found[k + \", \" + v] = str(tee_p[k].index(v)) + \", \" + str(tor_p[v].index(k))\n",
        "    df = {}\n",
        "    df[\"Mentor Name\"] = v\n",
        "    df[\"Mentee Name\"] = k\n",
        "    df[\"Mentee's Rating\"] = tee_p[k].index(v) + 1\n",
        "    df[\"Mentor's Rating\"] = tor_p[v].index(k) + 1\n",
        "    results = results.append(df, ignore_index=True)\n",
        "print(json.dumps(random_found,sort_keys=True, indent=4))"
      ],
      "execution_count": null,
      "outputs": [
        {
          "output_type": "stream",
          "name": "stdout",
          "text": [
            "{\n",
            "    \"Deangelo, Eleanor\": \"19, 2\",\n",
            "    \"Dianna, Genaro\": \"13, 3\",\n",
            "    \"Irene, Erma\": \"12, 10\",\n",
            "    \"Rhoda, Isaac\": \"20, 7\",\n",
            "    \"Rowena, Kent\": \"10, 2\",\n",
            "    \"Walker, Darcy\": \"11, 11\"\n",
            "}\n"
          ]
        }
      ]
    },
    {
      "cell_type": "markdown",
      "metadata": {
        "id": "mTBNSbDQQfCz"
      },
      "source": [
        "The randomized dataset had estimated around 10/30 pairs wouldn't get matches. But we didn't consider that if a mentee ranks a mentor high, the mentor is likely to rank the mentee high. And vice-versa. Both of these considerations would make it more likely that people rank each other in their top 10.\n",
        "\n",
        "We didn't really get into conditional probabilities in this simulation, but if we did consider those we'd have even fewer pairs that needed to be matched manually."
      ]
    },
    {
      "cell_type": "code",
      "metadata": {
        "colab": {
          "base_uri": "https://localhost:8080/",
          "height": 203
        },
        "id": "Y2JSwoXJv3E5",
        "outputId": "51fc4e6c-2552-40e2-fc83-5dd1b430d694"
      },
      "source": [
        "results = results.reindex(columns=[\"Mentee Name\", \"Mentor Name\", \"Mentee's Rating\", \"Mentor's Rating\"])\n",
        "results[\"Mentee's Rating\"] = pd.to_numeric(results[\"Mentee's Rating\"], downcast=\"integer\")\n",
        "results[\"Mentor's Rating\"] = pd.to_numeric(results[\"Mentor's Rating\"], downcast=\"integer\")\n",
        "results.head()"
      ],
      "execution_count": null,
      "outputs": [
        {
          "output_type": "execute_result",
          "data": {
            "text/html": [
              "<div>\n",
              "<style scoped>\n",
              "    .dataframe tbody tr th:only-of-type {\n",
              "        vertical-align: middle;\n",
              "    }\n",
              "\n",
              "    .dataframe tbody tr th {\n",
              "        vertical-align: top;\n",
              "    }\n",
              "\n",
              "    .dataframe thead th {\n",
              "        text-align: right;\n",
              "    }\n",
              "</style>\n",
              "<table border=\"1\" class=\"dataframe\">\n",
              "  <thead>\n",
              "    <tr style=\"text-align: right;\">\n",
              "      <th></th>\n",
              "      <th>Mentee Name</th>\n",
              "      <th>Mentor Name</th>\n",
              "      <th>Mentee's Rating</th>\n",
              "      <th>Mentor's Rating</th>\n",
              "    </tr>\n",
              "  </thead>\n",
              "  <tbody>\n",
              "    <tr>\n",
              "      <th>0</th>\n",
              "      <td>Hubert</td>\n",
              "      <td>Carmela</td>\n",
              "      <td>6</td>\n",
              "      <td>10</td>\n",
              "    </tr>\n",
              "    <tr>\n",
              "      <th>1</th>\n",
              "      <td>Dean</td>\n",
              "      <td>Aileen</td>\n",
              "      <td>7</td>\n",
              "      <td>1</td>\n",
              "    </tr>\n",
              "    <tr>\n",
              "      <th>2</th>\n",
              "      <td>Rosalind</td>\n",
              "      <td>Sammy</td>\n",
              "      <td>3</td>\n",
              "      <td>1</td>\n",
              "    </tr>\n",
              "    <tr>\n",
              "      <th>3</th>\n",
              "      <td>John</td>\n",
              "      <td>Travis</td>\n",
              "      <td>1</td>\n",
              "      <td>6</td>\n",
              "    </tr>\n",
              "    <tr>\n",
              "      <th>4</th>\n",
              "      <td>Hobert</td>\n",
              "      <td>Berta</td>\n",
              "      <td>1</td>\n",
              "      <td>7</td>\n",
              "    </tr>\n",
              "  </tbody>\n",
              "</table>\n",
              "</div>"
            ],
            "text/plain": [
              "  Mentee Name Mentor Name  Mentee's Rating  Mentor's Rating\n",
              "0      Hubert     Carmela                6               10\n",
              "1        Dean      Aileen                7                1\n",
              "2    Rosalind       Sammy                3                1\n",
              "3        John      Travis                1                6\n",
              "4      Hobert       Berta                1                7"
            ]
          },
          "metadata": {},
          "execution_count": 308
        }
      ]
    },
    {
      "cell_type": "code",
      "metadata": {
        "id": "7gJjvyOjwORy"
      },
      "source": [
        "results.to_csv(\"pairs.csv\", index=False)"
      ],
      "execution_count": null,
      "outputs": []
    }
  ]
}