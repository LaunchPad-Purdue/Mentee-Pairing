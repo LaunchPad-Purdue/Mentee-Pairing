{
  "nbformat": 4,
  "nbformat_minor": 0,
  "metadata": {
    "colab": {
      "name": "Pairing_Algorithm.ipynb",
      "provenance": [],
      "collapsed_sections": [],
      "authorship_tag": "ABX9TyPbAK45iDmihiuf0cfNfml5",
      "include_colab_link": true
    },
    "kernelspec": {
      "name": "python3",
      "display_name": "Python 3"
    },
    "language_info": {
      "name": "python"
    }
  },
  "cells": [
    {
      "cell_type": "markdown",
      "metadata": {
        "id": "view-in-github",
        "colab_type": "text"
      },
      "source": [
        "<a href=\"https://colab.research.google.com/github/LaunchPad-Purdue/Mentor-Mentee-Pairing/blob/main/Pairing_Algorithm.ipynb\" target=\"_parent\"><img src=\"https://colab.research.google.com/assets/colab-badge.svg\" alt=\"Open In Colab\"/></a>"
      ]
    },
    {
      "cell_type": "code",
      "metadata": {
        "id": "SeioS1w3izv9"
      },
      "source": [
        "import pandas as pd\n",
        "import numpy as np"
      ],
      "execution_count": null,
      "outputs": []
    },
    {
      "cell_type": "code",
      "metadata": {
        "id": "fnQgtxvvks4a"
      },
      "source": [
        "mentees = pd.read_csv(\"fakeMentees.csv\")\n",
        "mentors = pd.read_csv(\"fakeMentors.csv\")"
      ],
      "execution_count": null,
      "outputs": []
    },
    {
      "cell_type": "code",
      "metadata": {
        "id": "a8JGSb3Ck0ej"
      },
      "source": [
        "mentees['Name'] = mentees['Name']\n",
        "mentees.describe()"
      ],
      "execution_count": null,
      "outputs": []
    },
    {
      "cell_type": "code",
      "metadata": {
        "id": "lBr2CLDElBgq"
      },
      "source": [
        "mentors['Name'] = mentors['Name']\n",
        "mentors.describe()"
      ],
      "execution_count": null,
      "outputs": []
    },
    {
      "cell_type": "markdown",
      "metadata": {
        "id": "ZPHKs0r0p9C6"
      },
      "source": [
        "## Random generation for testing "
      ]
    },
    {
      "cell_type": "code",
      "source": [
        "size = 45"
      ],
      "metadata": {
        "id": "bIgmH61XDxdk"
      },
      "execution_count": null,
      "outputs": []
    },
    {
      "cell_type": "code",
      "metadata": {
        "id": "xgJOXZmyqJPt"
      },
      "source": [
        "import random\n",
        "\n",
        "def generate_match(max=size):\n",
        "  val = random.randint(0, max - 1)\n",
        "  return val\n",
        "\n",
        "def generate_10_students(max=size):\n",
        "  arr = []\n",
        "  while len(arr) < 10:\n",
        "    num = generate_match(max)\n",
        "    if num not in arr:\n",
        "      arr.append(num)\n",
        "  return arr"
      ],
      "execution_count": null,
      "outputs": []
    },
    {
      "cell_type": "code",
      "metadata": {
        "id": "ZntZzg_uqy3Y"
      },
      "source": [
        "# Simulating distribution with 1, 2\n",
        "test = {0: 0, 1: 0}\n",
        "for i in range(1, 10000):\n",
        "  test[generate_match(2)] += 1\n",
        "print(test)\n",
        "# Roughly simulating three batches of students\n",
        "\n",
        "generate_10_students()"
      ],
      "execution_count": null,
      "outputs": []
    },
    {
      "cell_type": "code",
      "metadata": {
        "id": "hbodgG7DofNX"
      },
      "source": [
        "# Randomizer for simulating responses\n",
        "\n",
        "mentee_ranks = pd.DataFrame() # What mentors ranked mentees\n",
        "mentor_ranks = pd.DataFrame() # What mentees ranked mentors\n",
        "\n",
        "for i in mentors['Name']: # Create a bunch of random randomized 1-10 rankings for mentors\n",
        "  df = {\"Timestamp\": \"10\",\n",
        "         \"Email address\": \"%s@purdue.edu\" % i.lower(),\n",
        "         \"What's your name?\": i}\n",
        "  arr = generate_10_students()\n",
        "  df[\"Rank 1 (Top Choice)\"] = mentees[\"Name\"][arr[0]]\n",
        "  for j in range(1, 10):\n",
        "    df[\"Rank %d\" % (j + 1)] = mentees[\"Name\"][arr[j]]\n",
        "  mentee_ranks = mentee_ranks.append(df, ignore_index=True)\n",
        "\n",
        "for i in mentees['Name']:\n",
        "  df = {\"Timestamp\": \"10\",\n",
        "         \"Email address\": \"%s@purdue.edu\" % i.lower(),\n",
        "         \"What's your name?\": i}\n",
        "  arr = generate_10_students()\n",
        "  df[\"Rank 1 (Top Choice)\"] = mentors[\"Name\"][arr[0]]\n",
        "  for j in range(1, 10):\n",
        "    df[\"Rank %d\" % (j + 1)] = mentors[\"Name\"][arr[j]]\n",
        "  mentor_ranks = mentor_ranks.append(df, ignore_index=True)\n",
        "\n",
        "# This is all basically to get a replica of the google form responses that'll be loaded in"
      ],
      "execution_count": null,
      "outputs": []
    },
    {
      "cell_type": "code",
      "metadata": {
        "id": "dmANalN6tnzc"
      },
      "source": [
        "mentee_ranks.head()"
      ],
      "execution_count": null,
      "outputs": []
    },
    {
      "cell_type": "code",
      "metadata": {
        "id": "ZhDpK78Du1ti"
      },
      "source": [
        "mentor_ranks.head()"
      ],
      "execution_count": null,
      "outputs": []
    },
    {
      "cell_type": "markdown",
      "metadata": {
        "id": "Jaf3bvbj1T7b"
      },
      "source": [
        "# Actual Algorithm\n",
        "Based on: https://rosettacode.org/wiki/Stable_marriage_problem#Python\n"
      ]
    },
    {
      "cell_type": "code",
      "metadata": {
        "id": "jl66h3Tcu9K9"
      },
      "source": [
        "# Now here's where the actual algorithm starts.\n",
        "# Insert stuff to read csv files for mentor mentee here\n",
        "## mentor_ranks = pd.read_csv(\"menteesresp.csv\")\n",
        "## mentee_ranks = pd.read_csv(\"mentorsresp.csv\")"
      ],
      "execution_count": null,
      "outputs": []
    },
    {
      "cell_type": "code",
      "metadata": {
        "id": "jP7BZTppX2uD"
      },
      "source": [
        "mentor_ranks.head()"
      ],
      "execution_count": null,
      "outputs": []
    },
    {
      "cell_type": "markdown",
      "metadata": {
        "id": "KvdUJhhRqHh_"
      },
      "source": [
        "## Preprocessing"
      ]
    },
    {
      "cell_type": "markdown",
      "metadata": {
        "id": "kdpQbQr7Qh8c"
      },
      "source": [
        "Since Stable Marriage requires an (2N)x(N) mapping, we're randomly ranking people between 11-30 to get to a 60 x 30 mapping.\n",
        "\n",
        "Our assumption is that most matchings would happen between people who ranked each other in their top 10. We'll then figure out people who didn't get matches between 1-10 and manually review their profiles and match them."
      ]
    },
    {
      "cell_type": "code",
      "metadata": {
        "id": "kcxbJPCpvCAe"
      },
      "source": [
        "tor_p = {} #mentor preferences\n",
        "tee_p = {} #mentee preferences\n",
        "\n",
        "tors = mentors.to_numpy().reshape(size)\n",
        "tees = mentees.to_numpy().reshape(size)\n",
        "\n",
        "# Setup dictionaries with names as keys\n",
        "\n",
        "for i in tors:\n",
        "  tor_p[i] = [] \n",
        "\n",
        "for i in tees:\n",
        "  tee_p[i] = []\n",
        "\n",
        "# Building mentor ranks\n",
        "for i in mentee_ranks.iterrows():\n",
        "  name = i[1][\"What's your name?\"]\n",
        "  tor_p[name].append(i[1][\"Rank 1 (Top Choice)\"])\n",
        "  for j in range(1, 10):\n",
        "    tor_p[name].append(i[1][\"Rank %d\" % (j + 1)]) # Add 1-10 rankings to each person\n",
        "  remaining = np.setdiff1d(tees, tor_p[name])\n",
        "  np.random.shuffle(remaining) # Shuffle remaining 11-20 rankings (see explanation above)\n",
        "  for j in remaining:\n",
        "    tor_p[name].append(j)\n",
        "print(\"Mentor Rankings: \", len(tor_p), tor_p)\n",
        "\n",
        "# Building mentee ranks\n",
        "for i in mentor_ranks.iterrows():\n",
        "  name = i[1][\"What's your name?\"]\n",
        "  tee_p[name].append(i[1][\"Rank 1 (Top Choice)\"])\n",
        "  for j in range(1, 10):\n",
        "    tee_p[name].append(i[1][\"Rank %d\" % (j + 1)])\n",
        "  remaining = np.setdiff1d(tors, tee_p[name])\n",
        "  np.random.shuffle(remaining)\n",
        "  for j in remaining:\n",
        "    tee_p[name].append(j)\n",
        "print(\"Mentee Rankings: \", len(tee_p), tee_p)"
      ],
      "execution_count": null,
      "outputs": []
    },
    {
      "cell_type": "markdown",
      "metadata": {
        "id": "QrPKzGCcOoW-"
      },
      "source": [
        "## Stable Marriage"
      ]
    },
    {
      "cell_type": "markdown",
      "metadata": {
        "id": "Ijdu2c7vQv4H"
      },
      "source": [
        "This does a better explanation than I could: https://en.wikipedia.org/wiki/Stable_marriage_problem"
      ]
    },
    {
      "cell_type": "code",
      "metadata": {
        "id": "6awrYWMA00W1"
      },
      "source": [
        "import copy\n",
        "\n",
        "## Disclosure: This is copied from https://rosettacode.org/wiki/Stable_marriage_problem#Python\n",
        "\n",
        "guyprefers = tor_p\n",
        "galprefers = tee_p\n",
        "guys = sorted(tor_p.keys())\n",
        "gals = sorted(tee_p.keys()) \n",
        "\n",
        "def check(engaged):\n",
        "    inverseengaged = dict((v,k) for k,v in engaged.items())\n",
        "    for she, he in engaged.items():\n",
        "        shelikes = galprefers[she]\n",
        "        shelikesbetter = shelikes[:shelikes.index(he)]\n",
        "        helikes = guyprefers[he]\n",
        "        helikesbetter = helikes[:helikes.index(she)]\n",
        "        for guy in shelikesbetter:\n",
        "            guysgirl = inverseengaged[guy]\n",
        "            guylikes = guyprefers[guy]\n",
        "            if guylikes.index(guysgirl) > guylikes.index(she):\n",
        "                print(\"%s and %s like each other better than \"\n",
        "                      \"their present partners: %s and %s, respectively\"\n",
        "                      % (she, guy, he, guysgirl))\n",
        "                return False\n",
        "        for gal in helikesbetter:\n",
        "            girlsguy = engaged[gal]\n",
        "            gallikes = galprefers[gal]\n",
        "            if gallikes.index(girlsguy) > gallikes.index(he):\n",
        "                print(\"%s and %s like each other better than \"\n",
        "                      \"their present partners: %s and %s, respectively\"\n",
        "                      % (he, gal, she, girlsguy))\n",
        "                return False\n",
        "    return True\n",
        " \n",
        "def matchmaker():\n",
        "    guysfree = guys[:]\n",
        "    engaged  = {}\n",
        "    guyprefers2 = copy.deepcopy(guyprefers)\n",
        "    galprefers2 = copy.deepcopy(galprefers)\n",
        "    while guysfree:\n",
        "        guy = guysfree.pop(0)\n",
        "        guyslist = guyprefers2[guy]\n",
        "        gal = guyslist.pop(0)\n",
        "        fiance = engaged.get(gal)\n",
        "        if not fiance:\n",
        "            # She's free\n",
        "            engaged[gal] = guy\n",
        "            print(\"  %s and %s\" % (guy, gal))\n",
        "        else:\n",
        "            # The bounder proposes to an engaged lass!\n",
        "            galslist = galprefers2[gal]\n",
        "            if galslist.index(fiance) > galslist.index(guy):\n",
        "                # She prefers new guy\n",
        "                engaged[gal] = guy\n",
        "                print(\"  %s dumped %s for %s\" % (gal, fiance, guy))\n",
        "                if guyprefers2[fiance]:\n",
        "                    # Ex has more girls to try\n",
        "                    guysfree.append(fiance)\n",
        "            else:\n",
        "                # She is faithful to old fiance\n",
        "                if guyslist:\n",
        "                    # Look again\n",
        "                    guysfree.append(guy)\n",
        "    return engaged\n",
        " \n",
        " \n",
        "print('\\nPairings:')\n",
        "engaged = matchmaker()\n",
        " \n",
        "print('\\nMentor-Mentee Pairs:')\n",
        "print('  ' + ',\\n  '.join('%s is paired to %s' % couple\n",
        "                          for couple in sorted(engaged.items())))\n",
        "print()\n",
        "print('Pairing stability check PASSED'\n",
        "      if check(engaged) else 'Pairing stability check FAILED')"
      ],
      "execution_count": null,
      "outputs": []
    },
    {
      "cell_type": "code",
      "metadata": {
        "id": "CbnxVLlt2BzU"
      },
      "source": [
        "import json\n",
        "print(json.dumps(engaged,sort_keys=True, indent=4))\n",
        "print(len(engaged))"
      ],
      "execution_count": null,
      "outputs": []
    },
    {
      "cell_type": "code",
      "metadata": {
        "id": "OzbD6RQhflb7"
      },
      "source": [
        "# Figuring out true matches (Where both mentors and mentees actually ranked the people)\n",
        "results = pd.DataFrame()\n",
        "true_matches = {}\n",
        "for k in engaged:\n",
        "  v = engaged[k]\n",
        "  if tor_p[v].index(k) < 10 and tee_p[k].index(v) < 10: # Either one has been selected using random picks\n",
        "    true_matches[k + \", \" + v] = str(tee_p[k].index(v)) + \", \" + str(tor_p[v].index(k))\n",
        "    df = {}\n",
        "    df[\"Mentor Name\"] = v\n",
        "    df[\"Mentee Name\"] = k\n",
        "    df[\"Mentee's Rating\"] = tee_p[k].index(v) + 1\n",
        "    df[\"Mentor's Rating\"] = tor_p[v].index(k) + 1\n",
        "    results = results.append(df, ignore_index=True)\n",
        "print(json.dumps(true_matches,sort_keys=True, indent=4))\n",
        "print(len(true_matches))"
      ],
      "execution_count": null,
      "outputs": []
    },
    {
      "cell_type": "code",
      "metadata": {
        "id": "icywwy2zdwcR"
      },
      "source": [
        "# Figuring out matches made by randomization:\n",
        "\n",
        "random_found = {}\n",
        "for k in engaged:\n",
        "  v = engaged[k]\n",
        "  if tor_p[v].index(k) >= 10 or tee_p[k].index(v) >= 10: # Either one has been selected using random picks\n",
        "    random_found[k + \", \" + v] = str(tee_p[k].index(v)) + \", \" + str(tor_p[v].index(k))\n",
        "    df = {}\n",
        "    df[\"Mentor Name\"] = v\n",
        "    df[\"Mentee Name\"] = k\n",
        "    df[\"Mentee's Rating\"] = tee_p[k].index(v) + 1\n",
        "    df[\"Mentor's Rating\"] = tor_p[v].index(k) + 1\n",
        "    results = results.append(df, ignore_index=True)\n",
        "print(json.dumps(random_found,sort_keys=True, indent=4))\n",
        "print(len(random_found))"
      ],
      "execution_count": null,
      "outputs": []
    },
    {
      "cell_type": "markdown",
      "metadata": {
        "id": "mTBNSbDQQfCz"
      },
      "source": [
        "The randomized dataset had estimated around 10/30 pairs wouldn't get matches. But we didn't consider that if a mentee ranks a mentor high, the mentor is likely to rank the mentee high. And vice-versa. Both of these considerations would make it more likely that people rank each other in their top 10.\n",
        "\n",
        "We didn't really get into conditional probabilities in this simulation, but if we did consider those we'd have even fewer pairs that needed to be matched manually."
      ]
    },
    {
      "cell_type": "code",
      "metadata": {
        "id": "Y2JSwoXJv3E5"
      },
      "source": [
        "results = results.reindex(columns=[\"Mentee Name\", \"Mentor Name\", \"Mentee's Rating\", \"Mentor's Rating\"])\n",
        "results[\"Mentee's Rating\"] = pd.to_numeric(results[\"Mentee's Rating\"], downcast=\"integer\")\n",
        "results[\"Mentor's Rating\"] = pd.to_numeric(results[\"Mentor's Rating\"], downcast=\"integer\")\n",
        "results.head()"
      ],
      "execution_count": null,
      "outputs": []
    },
    {
      "cell_type": "code",
      "metadata": {
        "id": "7gJjvyOjwORy"
      },
      "source": [
        "results.to_csv(\"pairs.csv\", index=False)"
      ],
      "execution_count": null,
      "outputs": []
    }
  ]
}